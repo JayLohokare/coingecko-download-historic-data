{
  "nbformat": 4,
  "nbformat_minor": 0,
  "metadata": {
    "colab": {
      "name": "gdaxApi",
      "version": "0.3.2",
      "views": {},
      "default_view": {},
      "provenance": [],
      "collapsed_sections": []
    },
    "kernelspec": {
      "name": "python3",
      "display_name": "Python 3"
    }
  },
  "cells": [
    {
      "metadata": {
        "id": "SOTOBIqxLTcJ",
        "colab_type": "code",
        "colab": {
          "autoexec": {
            "startup": false,
            "wait_interval": 0
          }
        }
      },
      "cell_type": "code",
      "source": [
        "import requests\n",
        "import json\n",
        "import csv\n",
        "from google.colab import files\n",
        "from datetime import timedelta, date\n",
        "import pandas as pd\n",
        "\n",
        "import requests\n",
        "import json\n",
        "import csv\n",
        "from google.colab import files\n",
        "from datetime import timedelta, date\n",
        "\n",
        "\n",
        "\n",
        "import datetime"
      ],
      "execution_count": 0,
      "outputs": []
    },
    {
      "metadata": {
        "id": "PnbPoHm-LU-V",
        "colab_type": "code",
        "colab": {
          "autoexec": {
            "startup": false,
            "wait_interval": 0
          }
        }
      },
      "cell_type": "code",
      "source": [
        "def get_data_asPd_from_url(url):\n",
        "  headers = {'User-Agent': 'Mozilla/5.0 (Macintosh; Intel Mac OS X 10_10_1) AppleWebKit/537.36 (KHTML, like Gecko) Chrome/39.0.2171.95 Safari/537.36'}\n",
        "  response = requests.get(url, headers = headers)\n",
        "  df = pd.read_json(response.content)\n",
        "  return df\n"
      ],
      "execution_count": 0,
      "outputs": []
    },
    {
      "metadata": {
        "id": "nAyj1NZKY-83",
        "colab_type": "code",
        "colab": {
          "autoexec": {
            "startup": false,
            "wait_interval": 0
          }
        }
      },
      "cell_type": "code",
      "source": [
        "def daterange(start_date, end_date):\n",
        "    for n in range(int ((end_date - start_date).days)):\n",
        "        yield start_date + timedelta(n)\n",
        "\n",
        "start_date = date(2018, 5, 1)\n",
        "end_date = date(2018, 5,5)"
      ],
      "execution_count": 0,
      "outputs": []
    },
    {
      "metadata": {
        "id": "K7G9N19cL-F_",
        "colab_type": "code",
        "colab": {
          "autoexec": {
            "startup": false,
            "wait_interval": 0
          },
          "base_uri": "https://localhost:8080/",
          "height": 3461
        },
        "outputId": "af036d1b-0e40-443b-a079-d5d687a8e65e"
      },
      "cell_type": "code",
      "source": [
        "url = \"https://api.gdax.com\"\n",
        "\n",
        "type = \"/products\"\n",
        "data = get_data_asPd_from_url(url+type)\n",
        "print(data)\n",
        "\n",
        "for i in data['display_name']:\n",
        "  import time\n",
        "  i = i[:3] + '-' + i[4:]\n",
        "  apiEndPoint = \"/products/\" + i +\"/candles?\"\n",
        "  \n",
        "  print(apiEndPoint)\n",
        "#   import datetime\n",
        "# datetime.datetime.utcnow().isoformat()\n",
        "\n",
        "# >>> import datetime\n",
        "# # 05/10/09 18:00\n",
        "# >>> d = datetime.datetime(2009, 10, 5, 18, 00)\n",
        "# >>> print d.year, d.month, d.day, d.hour, d.second\n",
        "# 2009 10 5 18 0\n",
        "\n",
        "  \n",
        "  for single_date in daterange(start_date, end_date):\n",
        "    day = int(single_date.strftime(\"%d\"))\n",
        "    month = int(single_date.strftime(\"%m\"))\n",
        "    year = int(single_date.strftime(\"20%y\"))\n",
        "    \n",
        "    for hour in range(23):\n",
        "#       monthDateSplit = str(date.split(\"-\"))\n",
        "#       print(monthDateSplit)\n",
        "#year/month/day\n",
        "\n",
        "      time.sleep(2)\n",
        "      d_start = datetime.datetime(year, month, day, hour, 00)\n",
        "      d_end = datetime.datetime(year, month, day, hour+1, 00)\n",
        "      start_in_ISO = d_start.isoformat()\n",
        "      end_in_ISO = d_end.isoformat()\n",
        "\n",
        "      parameters = \"start=\" + start_in_ISO + \".000000Z&end=\" + end_in_ISO + \".000000Z&granularity=60\"\n",
        "      finalHistorical = url + apiEndPoint + parameters\n",
        "      print(finalHistorical)\n",
        "      historicalData = get_data_asPd_from_url(finalHistorical)\n",
        "      \n",
        "      historicalData.to_csv(i+\".csv\", sep='\\t', encoding='utf-8',mode='a')"
      ],
      "execution_count": 0,
      "outputs": [
        {
          "output_type": "stream",
          "text": [
            "   base_currency  base_max_size  base_min_size  cancel_only display_name  \\\n",
            "0            BCH            200          0.010        False      BCH/BTC   \n",
            "1            BCH            350          0.010        False      BCH/USD   \n",
            "2            BTC             50          0.001        False      BTC/EUR   \n",
            "3            BTC             20          0.001        False      BTC/GBP   \n",
            "4            BTC             70          0.001        False      BTC/USD   \n",
            "5            ETH            600          0.010        False      ETH/BTC   \n",
            "6            ETH            400          0.010        False      ETH/EUR   \n",
            "7            ETH            700          0.010        False      ETH/USD   \n",
            "8            LTC           2000          0.100        False      LTC/BTC   \n",
            "9            LTC           1000          0.100        False      LTC/EUR   \n",
            "10           LTC           4000          0.100        False      LTC/USD   \n",
            "11           BCH            120          0.010        False      BCH/EUR   \n",
            "\n",
            "         id  limit_only  margin_enabled  max_market_funds  min_market_funds  \\\n",
            "0   BCH-BTC       False           False                30             0.001   \n",
            "1   BCH-USD       False           False           1000000            10.000   \n",
            "2   BTC-EUR       False           False            600000            10.000   \n",
            "3   BTC-GBP       False           False            200000            10.000   \n",
            "4   BTC-USD       False           False           1000000            10.000   \n",
            "5   ETH-BTC       False           False                50             0.001   \n",
            "6   ETH-EUR       False           False            400000            10.000   \n",
            "7   ETH-USD       False           False           1000000            10.000   \n",
            "8   LTC-BTC       False           False                30             0.001   \n",
            "9   LTC-EUR       False           False            200000            10.000   \n",
            "10  LTC-USD       False           False           1000000            10.000   \n",
            "11  BCH-EUR       False           False            200000            10.000   \n",
            "\n",
            "    post_only quote_currency  quote_increment  status  status_message  \n",
            "0       False            BTC          0.00001  online             NaN  \n",
            "1       False            USD          0.01000  online             NaN  \n",
            "2       False            EUR          0.01000  online             NaN  \n",
            "3       False            GBP          0.01000  online             NaN  \n",
            "4       False            USD          0.01000  online             NaN  \n",
            "5       False            BTC          0.00001  online             NaN  \n",
            "6       False            EUR          0.01000  online             NaN  \n",
            "7       False            USD          0.01000  online             NaN  \n",
            "8       False            BTC          0.00001  online             NaN  \n",
            "9       False            EUR          0.01000  online             NaN  \n",
            "10      False            USD          0.01000  online             NaN  \n",
            "11      False            EUR          0.01000  online             NaN  \n",
            "/products/BCH-BTC/candles?\n",
            "https://api.gdax.com/products/BCH-BTC/candles?start=2018-05-01T00:00:00.000000Z&end=2018-05-01T01:00:00.000000Z&granularity=60\n",
            "https://api.gdax.com/products/BCH-BTC/candles?start=2018-05-01T01:00:00.000000Z&end=2018-05-01T02:00:00.000000Z&granularity=60\n",
            "https://api.gdax.com/products/BCH-BTC/candles?start=2018-05-01T02:00:00.000000Z&end=2018-05-01T03:00:00.000000Z&granularity=60\n",
            "https://api.gdax.com/products/BCH-BTC/candles?start=2018-05-01T03:00:00.000000Z&end=2018-05-01T04:00:00.000000Z&granularity=60\n",
            "https://api.gdax.com/products/BCH-BTC/candles?start=2018-05-01T04:00:00.000000Z&end=2018-05-01T05:00:00.000000Z&granularity=60\n",
            "https://api.gdax.com/products/BCH-BTC/candles?start=2018-05-01T05:00:00.000000Z&end=2018-05-01T06:00:00.000000Z&granularity=60\n",
            "https://api.gdax.com/products/BCH-BTC/candles?start=2018-05-01T06:00:00.000000Z&end=2018-05-01T07:00:00.000000Z&granularity=60\n",
            "https://api.gdax.com/products/BCH-BTC/candles?start=2018-05-01T07:00:00.000000Z&end=2018-05-01T08:00:00.000000Z&granularity=60\n",
            "https://api.gdax.com/products/BCH-BTC/candles?start=2018-05-01T08:00:00.000000Z&end=2018-05-01T09:00:00.000000Z&granularity=60\n",
            "https://api.gdax.com/products/BCH-BTC/candles?start=2018-05-01T09:00:00.000000Z&end=2018-05-01T10:00:00.000000Z&granularity=60\n",
            "https://api.gdax.com/products/BCH-BTC/candles?start=2018-05-01T10:00:00.000000Z&end=2018-05-01T11:00:00.000000Z&granularity=60\n",
            "https://api.gdax.com/products/BCH-BTC/candles?start=2018-05-01T11:00:00.000000Z&end=2018-05-01T12:00:00.000000Z&granularity=60\n",
            "https://api.gdax.com/products/BCH-BTC/candles?start=2018-05-01T12:00:00.000000Z&end=2018-05-01T13:00:00.000000Z&granularity=60\n",
            "https://api.gdax.com/products/BCH-BTC/candles?start=2018-05-01T13:00:00.000000Z&end=2018-05-01T14:00:00.000000Z&granularity=60\n",
            "https://api.gdax.com/products/BCH-BTC/candles?start=2018-05-01T14:00:00.000000Z&end=2018-05-01T15:00:00.000000Z&granularity=60\n",
            "https://api.gdax.com/products/BCH-BTC/candles?start=2018-05-01T15:00:00.000000Z&end=2018-05-01T16:00:00.000000Z&granularity=60\n",
            "https://api.gdax.com/products/BCH-BTC/candles?start=2018-05-01T16:00:00.000000Z&end=2018-05-01T17:00:00.000000Z&granularity=60\n",
            "https://api.gdax.com/products/BCH-BTC/candles?start=2018-05-01T17:00:00.000000Z&end=2018-05-01T18:00:00.000000Z&granularity=60\n",
            "https://api.gdax.com/products/BCH-BTC/candles?start=2018-05-01T18:00:00.000000Z&end=2018-05-01T19:00:00.000000Z&granularity=60\n",
            "https://api.gdax.com/products/BCH-BTC/candles?start=2018-05-01T19:00:00.000000Z&end=2018-05-01T20:00:00.000000Z&granularity=60\n",
            "https://api.gdax.com/products/BCH-BTC/candles?start=2018-05-01T20:00:00.000000Z&end=2018-05-01T21:00:00.000000Z&granularity=60\n"
          ],
          "name": "stdout"
        },
        {
          "output_type": "stream",
          "text": [
            "https://api.gdax.com/products/BCH-BTC/candles?start=2018-05-01T21:00:00.000000Z&end=2018-05-01T22:00:00.000000Z&granularity=60\n",
            "https://api.gdax.com/products/BCH-BTC/candles?start=2018-05-01T22:00:00.000000Z&end=2018-05-01T23:00:00.000000Z&granularity=60\n",
            "https://api.gdax.com/products/BCH-BTC/candles?start=2018-05-02T00:00:00.000000Z&end=2018-05-02T01:00:00.000000Z&granularity=60\n",
            "https://api.gdax.com/products/BCH-BTC/candles?start=2018-05-02T01:00:00.000000Z&end=2018-05-02T02:00:00.000000Z&granularity=60\n",
            "https://api.gdax.com/products/BCH-BTC/candles?start=2018-05-02T02:00:00.000000Z&end=2018-05-02T03:00:00.000000Z&granularity=60\n",
            "https://api.gdax.com/products/BCH-BTC/candles?start=2018-05-02T03:00:00.000000Z&end=2018-05-02T04:00:00.000000Z&granularity=60\n",
            "https://api.gdax.com/products/BCH-BTC/candles?start=2018-05-02T04:00:00.000000Z&end=2018-05-02T05:00:00.000000Z&granularity=60\n",
            "https://api.gdax.com/products/BCH-BTC/candles?start=2018-05-02T05:00:00.000000Z&end=2018-05-02T06:00:00.000000Z&granularity=60\n",
            "https://api.gdax.com/products/BCH-BTC/candles?start=2018-05-02T06:00:00.000000Z&end=2018-05-02T07:00:00.000000Z&granularity=60\n",
            "https://api.gdax.com/products/BCH-BTC/candles?start=2018-05-02T07:00:00.000000Z&end=2018-05-02T08:00:00.000000Z&granularity=60\n",
            "https://api.gdax.com/products/BCH-BTC/candles?start=2018-05-02T08:00:00.000000Z&end=2018-05-02T09:00:00.000000Z&granularity=60\n",
            "https://api.gdax.com/products/BCH-BTC/candles?start=2018-05-02T09:00:00.000000Z&end=2018-05-02T10:00:00.000000Z&granularity=60\n",
            "https://api.gdax.com/products/BCH-BTC/candles?start=2018-05-02T10:00:00.000000Z&end=2018-05-02T11:00:00.000000Z&granularity=60\n",
            "https://api.gdax.com/products/BCH-BTC/candles?start=2018-05-02T11:00:00.000000Z&end=2018-05-02T12:00:00.000000Z&granularity=60\n",
            "https://api.gdax.com/products/BCH-BTC/candles?start=2018-05-02T12:00:00.000000Z&end=2018-05-02T13:00:00.000000Z&granularity=60\n",
            "https://api.gdax.com/products/BCH-BTC/candles?start=2018-05-02T13:00:00.000000Z&end=2018-05-02T14:00:00.000000Z&granularity=60\n",
            "https://api.gdax.com/products/BCH-BTC/candles?start=2018-05-02T14:00:00.000000Z&end=2018-05-02T15:00:00.000000Z&granularity=60\n",
            "https://api.gdax.com/products/BCH-BTC/candles?start=2018-05-02T15:00:00.000000Z&end=2018-05-02T16:00:00.000000Z&granularity=60\n",
            "https://api.gdax.com/products/BCH-BTC/candles?start=2018-05-02T16:00:00.000000Z&end=2018-05-02T17:00:00.000000Z&granularity=60\n",
            "https://api.gdax.com/products/BCH-BTC/candles?start=2018-05-02T17:00:00.000000Z&end=2018-05-02T18:00:00.000000Z&granularity=60\n",
            "https://api.gdax.com/products/BCH-BTC/candles?start=2018-05-02T18:00:00.000000Z&end=2018-05-02T19:00:00.000000Z&granularity=60\n",
            "https://api.gdax.com/products/BCH-BTC/candles?start=2018-05-02T19:00:00.000000Z&end=2018-05-02T20:00:00.000000Z&granularity=60\n",
            "https://api.gdax.com/products/BCH-BTC/candles?start=2018-05-02T20:00:00.000000Z&end=2018-05-02T21:00:00.000000Z&granularity=60\n",
            "https://api.gdax.com/products/BCH-BTC/candles?start=2018-05-02T21:00:00.000000Z&end=2018-05-02T22:00:00.000000Z&granularity=60\n",
            "https://api.gdax.com/products/BCH-BTC/candles?start=2018-05-02T22:00:00.000000Z&end=2018-05-02T23:00:00.000000Z&granularity=60\n",
            "https://api.gdax.com/products/BCH-BTC/candles?start=2018-05-03T00:00:00.000000Z&end=2018-05-03T01:00:00.000000Z&granularity=60\n",
            "https://api.gdax.com/products/BCH-BTC/candles?start=2018-05-03T01:00:00.000000Z&end=2018-05-03T02:00:00.000000Z&granularity=60\n",
            "https://api.gdax.com/products/BCH-BTC/candles?start=2018-05-03T02:00:00.000000Z&end=2018-05-03T03:00:00.000000Z&granularity=60\n",
            "https://api.gdax.com/products/BCH-BTC/candles?start=2018-05-03T03:00:00.000000Z&end=2018-05-03T04:00:00.000000Z&granularity=60\n",
            "https://api.gdax.com/products/BCH-BTC/candles?start=2018-05-03T04:00:00.000000Z&end=2018-05-03T05:00:00.000000Z&granularity=60\n",
            "https://api.gdax.com/products/BCH-BTC/candles?start=2018-05-03T05:00:00.000000Z&end=2018-05-03T06:00:00.000000Z&granularity=60\n",
            "https://api.gdax.com/products/BCH-BTC/candles?start=2018-05-03T06:00:00.000000Z&end=2018-05-03T07:00:00.000000Z&granularity=60\n",
            "https://api.gdax.com/products/BCH-BTC/candles?start=2018-05-03T07:00:00.000000Z&end=2018-05-03T08:00:00.000000Z&granularity=60\n",
            "https://api.gdax.com/products/BCH-BTC/candles?start=2018-05-03T08:00:00.000000Z&end=2018-05-03T09:00:00.000000Z&granularity=60\n",
            "https://api.gdax.com/products/BCH-BTC/candles?start=2018-05-03T09:00:00.000000Z&end=2018-05-03T10:00:00.000000Z&granularity=60\n",
            "https://api.gdax.com/products/BCH-BTC/candles?start=2018-05-03T10:00:00.000000Z&end=2018-05-03T11:00:00.000000Z&granularity=60\n",
            "https://api.gdax.com/products/BCH-BTC/candles?start=2018-05-03T11:00:00.000000Z&end=2018-05-03T12:00:00.000000Z&granularity=60\n",
            "https://api.gdax.com/products/BCH-BTC/candles?start=2018-05-03T12:00:00.000000Z&end=2018-05-03T13:00:00.000000Z&granularity=60\n",
            "https://api.gdax.com/products/BCH-BTC/candles?start=2018-05-03T13:00:00.000000Z&end=2018-05-03T14:00:00.000000Z&granularity=60\n"
          ],
          "name": "stdout"
        },
        {
          "output_type": "stream",
          "text": [
            "https://api.gdax.com/products/BCH-BTC/candles?start=2018-05-03T14:00:00.000000Z&end=2018-05-03T15:00:00.000000Z&granularity=60\n",
            "https://api.gdax.com/products/BCH-BTC/candles?start=2018-05-03T15:00:00.000000Z&end=2018-05-03T16:00:00.000000Z&granularity=60\n",
            "https://api.gdax.com/products/BCH-BTC/candles?start=2018-05-03T16:00:00.000000Z&end=2018-05-03T17:00:00.000000Z&granularity=60\n",
            "https://api.gdax.com/products/BCH-BTC/candles?start=2018-05-03T17:00:00.000000Z&end=2018-05-03T18:00:00.000000Z&granularity=60\n",
            "https://api.gdax.com/products/BCH-BTC/candles?start=2018-05-03T18:00:00.000000Z&end=2018-05-03T19:00:00.000000Z&granularity=60\n",
            "https://api.gdax.com/products/BCH-BTC/candles?start=2018-05-03T19:00:00.000000Z&end=2018-05-03T20:00:00.000000Z&granularity=60\n",
            "https://api.gdax.com/products/BCH-BTC/candles?start=2018-05-03T20:00:00.000000Z&end=2018-05-03T21:00:00.000000Z&granularity=60\n",
            "https://api.gdax.com/products/BCH-BTC/candles?start=2018-05-03T21:00:00.000000Z&end=2018-05-03T22:00:00.000000Z&granularity=60\n",
            "https://api.gdax.com/products/BCH-BTC/candles?start=2018-05-03T22:00:00.000000Z&end=2018-05-03T23:00:00.000000Z&granularity=60\n",
            "https://api.gdax.com/products/BCH-BTC/candles?start=2018-05-04T00:00:00.000000Z&end=2018-05-04T01:00:00.000000Z&granularity=60\n",
            "https://api.gdax.com/products/BCH-BTC/candles?start=2018-05-04T01:00:00.000000Z&end=2018-05-04T02:00:00.000000Z&granularity=60\n",
            "https://api.gdax.com/products/BCH-BTC/candles?start=2018-05-04T02:00:00.000000Z&end=2018-05-04T03:00:00.000000Z&granularity=60\n",
            "https://api.gdax.com/products/BCH-BTC/candles?start=2018-05-04T03:00:00.000000Z&end=2018-05-04T04:00:00.000000Z&granularity=60\n",
            "https://api.gdax.com/products/BCH-BTC/candles?start=2018-05-04T04:00:00.000000Z&end=2018-05-04T05:00:00.000000Z&granularity=60\n",
            "https://api.gdax.com/products/BCH-BTC/candles?start=2018-05-04T05:00:00.000000Z&end=2018-05-04T06:00:00.000000Z&granularity=60\n",
            "https://api.gdax.com/products/BCH-BTC/candles?start=2018-05-04T06:00:00.000000Z&end=2018-05-04T07:00:00.000000Z&granularity=60\n",
            "https://api.gdax.com/products/BCH-BTC/candles?start=2018-05-04T07:00:00.000000Z&end=2018-05-04T08:00:00.000000Z&granularity=60\n",
            "https://api.gdax.com/products/BCH-BTC/candles?start=2018-05-04T08:00:00.000000Z&end=2018-05-04T09:00:00.000000Z&granularity=60\n",
            "https://api.gdax.com/products/BCH-BTC/candles?start=2018-05-04T09:00:00.000000Z&end=2018-05-04T10:00:00.000000Z&granularity=60\n",
            "https://api.gdax.com/products/BCH-BTC/candles?start=2018-05-04T10:00:00.000000Z&end=2018-05-04T11:00:00.000000Z&granularity=60\n",
            "https://api.gdax.com/products/BCH-BTC/candles?start=2018-05-04T11:00:00.000000Z&end=2018-05-04T12:00:00.000000Z&granularity=60\n",
            "https://api.gdax.com/products/BCH-BTC/candles?start=2018-05-04T12:00:00.000000Z&end=2018-05-04T13:00:00.000000Z&granularity=60\n",
            "https://api.gdax.com/products/BCH-BTC/candles?start=2018-05-04T13:00:00.000000Z&end=2018-05-04T14:00:00.000000Z&granularity=60\n",
            "https://api.gdax.com/products/BCH-BTC/candles?start=2018-05-04T14:00:00.000000Z&end=2018-05-04T15:00:00.000000Z&granularity=60\n",
            "https://api.gdax.com/products/BCH-BTC/candles?start=2018-05-04T15:00:00.000000Z&end=2018-05-04T16:00:00.000000Z&granularity=60\n",
            "https://api.gdax.com/products/BCH-BTC/candles?start=2018-05-04T16:00:00.000000Z&end=2018-05-04T17:00:00.000000Z&granularity=60\n",
            "https://api.gdax.com/products/BCH-BTC/candles?start=2018-05-04T17:00:00.000000Z&end=2018-05-04T18:00:00.000000Z&granularity=60\n",
            "https://api.gdax.com/products/BCH-BTC/candles?start=2018-05-04T18:00:00.000000Z&end=2018-05-04T19:00:00.000000Z&granularity=60\n",
            "https://api.gdax.com/products/BCH-BTC/candles?start=2018-05-04T19:00:00.000000Z&end=2018-05-04T20:00:00.000000Z&granularity=60\n",
            "https://api.gdax.com/products/BCH-BTC/candles?start=2018-05-04T20:00:00.000000Z&end=2018-05-04T21:00:00.000000Z&granularity=60\n",
            "https://api.gdax.com/products/BCH-BTC/candles?start=2018-05-04T21:00:00.000000Z&end=2018-05-04T22:00:00.000000Z&granularity=60\n",
            "https://api.gdax.com/products/BCH-BTC/candles?start=2018-05-04T22:00:00.000000Z&end=2018-05-04T23:00:00.000000Z&granularity=60\n",
            "/products/BCH-USD/candles?\n",
            "https://api.gdax.com/products/BCH-USD/candles?start=2018-05-01T00:00:00.000000Z&end=2018-05-01T01:00:00.000000Z&granularity=60\n",
            "https://api.gdax.com/products/BCH-USD/candles?start=2018-05-01T01:00:00.000000Z&end=2018-05-01T02:00:00.000000Z&granularity=60\n",
            "https://api.gdax.com/products/BCH-USD/candles?start=2018-05-01T02:00:00.000000Z&end=2018-05-01T03:00:00.000000Z&granularity=60\n",
            "https://api.gdax.com/products/BCH-USD/candles?start=2018-05-01T03:00:00.000000Z&end=2018-05-01T04:00:00.000000Z&granularity=60\n",
            "https://api.gdax.com/products/BCH-USD/candles?start=2018-05-01T04:00:00.000000Z&end=2018-05-01T05:00:00.000000Z&granularity=60\n",
            "https://api.gdax.com/products/BCH-USD/candles?start=2018-05-01T05:00:00.000000Z&end=2018-05-01T06:00:00.000000Z&granularity=60\n",
            "https://api.gdax.com/products/BCH-USD/candles?start=2018-05-01T06:00:00.000000Z&end=2018-05-01T07:00:00.000000Z&granularity=60\n"
          ],
          "name": "stdout"
        },
        {
          "output_type": "stream",
          "text": [
            "https://api.gdax.com/products/BCH-USD/candles?start=2018-05-01T07:00:00.000000Z&end=2018-05-01T08:00:00.000000Z&granularity=60\n",
            "https://api.gdax.com/products/BCH-USD/candles?start=2018-05-01T08:00:00.000000Z&end=2018-05-01T09:00:00.000000Z&granularity=60\n",
            "https://api.gdax.com/products/BCH-USD/candles?start=2018-05-01T09:00:00.000000Z&end=2018-05-01T10:00:00.000000Z&granularity=60\n",
            "https://api.gdax.com/products/BCH-USD/candles?start=2018-05-01T10:00:00.000000Z&end=2018-05-01T11:00:00.000000Z&granularity=60\n",
            "https://api.gdax.com/products/BCH-USD/candles?start=2018-05-01T11:00:00.000000Z&end=2018-05-01T12:00:00.000000Z&granularity=60\n",
            "https://api.gdax.com/products/BCH-USD/candles?start=2018-05-01T12:00:00.000000Z&end=2018-05-01T13:00:00.000000Z&granularity=60\n",
            "https://api.gdax.com/products/BCH-USD/candles?start=2018-05-01T13:00:00.000000Z&end=2018-05-01T14:00:00.000000Z&granularity=60\n",
            "https://api.gdax.com/products/BCH-USD/candles?start=2018-05-01T14:00:00.000000Z&end=2018-05-01T15:00:00.000000Z&granularity=60\n",
            "https://api.gdax.com/products/BCH-USD/candles?start=2018-05-01T15:00:00.000000Z&end=2018-05-01T16:00:00.000000Z&granularity=60\n",
            "https://api.gdax.com/products/BCH-USD/candles?start=2018-05-01T16:00:00.000000Z&end=2018-05-01T17:00:00.000000Z&granularity=60\n",
            "https://api.gdax.com/products/BCH-USD/candles?start=2018-05-01T17:00:00.000000Z&end=2018-05-01T18:00:00.000000Z&granularity=60\n",
            "https://api.gdax.com/products/BCH-USD/candles?start=2018-05-01T18:00:00.000000Z&end=2018-05-01T19:00:00.000000Z&granularity=60\n",
            "https://api.gdax.com/products/BCH-USD/candles?start=2018-05-01T19:00:00.000000Z&end=2018-05-01T20:00:00.000000Z&granularity=60\n",
            "https://api.gdax.com/products/BCH-USD/candles?start=2018-05-01T20:00:00.000000Z&end=2018-05-01T21:00:00.000000Z&granularity=60\n",
            "https://api.gdax.com/products/BCH-USD/candles?start=2018-05-01T21:00:00.000000Z&end=2018-05-01T22:00:00.000000Z&granularity=60\n",
            "https://api.gdax.com/products/BCH-USD/candles?start=2018-05-01T22:00:00.000000Z&end=2018-05-01T23:00:00.000000Z&granularity=60\n",
            "https://api.gdax.com/products/BCH-USD/candles?start=2018-05-02T00:00:00.000000Z&end=2018-05-02T01:00:00.000000Z&granularity=60\n",
            "https://api.gdax.com/products/BCH-USD/candles?start=2018-05-02T01:00:00.000000Z&end=2018-05-02T02:00:00.000000Z&granularity=60\n",
            "https://api.gdax.com/products/BCH-USD/candles?start=2018-05-02T02:00:00.000000Z&end=2018-05-02T03:00:00.000000Z&granularity=60\n",
            "https://api.gdax.com/products/BCH-USD/candles?start=2018-05-02T03:00:00.000000Z&end=2018-05-02T04:00:00.000000Z&granularity=60\n",
            "https://api.gdax.com/products/BCH-USD/candles?start=2018-05-02T04:00:00.000000Z&end=2018-05-02T05:00:00.000000Z&granularity=60\n",
            "https://api.gdax.com/products/BCH-USD/candles?start=2018-05-02T05:00:00.000000Z&end=2018-05-02T06:00:00.000000Z&granularity=60\n",
            "https://api.gdax.com/products/BCH-USD/candles?start=2018-05-02T06:00:00.000000Z&end=2018-05-02T07:00:00.000000Z&granularity=60\n",
            "https://api.gdax.com/products/BCH-USD/candles?start=2018-05-02T07:00:00.000000Z&end=2018-05-02T08:00:00.000000Z&granularity=60\n",
            "https://api.gdax.com/products/BCH-USD/candles?start=2018-05-02T08:00:00.000000Z&end=2018-05-02T09:00:00.000000Z&granularity=60\n",
            "https://api.gdax.com/products/BCH-USD/candles?start=2018-05-02T09:00:00.000000Z&end=2018-05-02T10:00:00.000000Z&granularity=60\n",
            "https://api.gdax.com/products/BCH-USD/candles?start=2018-05-02T10:00:00.000000Z&end=2018-05-02T11:00:00.000000Z&granularity=60\n",
            "https://api.gdax.com/products/BCH-USD/candles?start=2018-05-02T11:00:00.000000Z&end=2018-05-02T12:00:00.000000Z&granularity=60\n",
            "https://api.gdax.com/products/BCH-USD/candles?start=2018-05-02T12:00:00.000000Z&end=2018-05-02T13:00:00.000000Z&granularity=60\n",
            "https://api.gdax.com/products/BCH-USD/candles?start=2018-05-02T13:00:00.000000Z&end=2018-05-02T14:00:00.000000Z&granularity=60\n",
            "https://api.gdax.com/products/BCH-USD/candles?start=2018-05-02T14:00:00.000000Z&end=2018-05-02T15:00:00.000000Z&granularity=60\n",
            "https://api.gdax.com/products/BCH-USD/candles?start=2018-05-02T15:00:00.000000Z&end=2018-05-02T16:00:00.000000Z&granularity=60\n",
            "https://api.gdax.com/products/BCH-USD/candles?start=2018-05-02T16:00:00.000000Z&end=2018-05-02T17:00:00.000000Z&granularity=60\n",
            "https://api.gdax.com/products/BCH-USD/candles?start=2018-05-02T17:00:00.000000Z&end=2018-05-02T18:00:00.000000Z&granularity=60\n",
            "https://api.gdax.com/products/BCH-USD/candles?start=2018-05-02T18:00:00.000000Z&end=2018-05-02T19:00:00.000000Z&granularity=60\n",
            "https://api.gdax.com/products/BCH-USD/candles?start=2018-05-02T19:00:00.000000Z&end=2018-05-02T20:00:00.000000Z&granularity=60\n",
            "https://api.gdax.com/products/BCH-USD/candles?start=2018-05-02T20:00:00.000000Z&end=2018-05-02T21:00:00.000000Z&granularity=60\n",
            "https://api.gdax.com/products/BCH-USD/candles?start=2018-05-02T21:00:00.000000Z&end=2018-05-02T22:00:00.000000Z&granularity=60\n",
            "https://api.gdax.com/products/BCH-USD/candles?start=2018-05-02T22:00:00.000000Z&end=2018-05-02T23:00:00.000000Z&granularity=60\n"
          ],
          "name": "stdout"
        },
        {
          "output_type": "stream",
          "text": [
            "https://api.gdax.com/products/BCH-USD/candles?start=2018-05-03T00:00:00.000000Z&end=2018-05-03T01:00:00.000000Z&granularity=60\n",
            "https://api.gdax.com/products/BCH-USD/candles?start=2018-05-03T01:00:00.000000Z&end=2018-05-03T02:00:00.000000Z&granularity=60\n",
            "https://api.gdax.com/products/BCH-USD/candles?start=2018-05-03T02:00:00.000000Z&end=2018-05-03T03:00:00.000000Z&granularity=60\n",
            "https://api.gdax.com/products/BCH-USD/candles?start=2018-05-03T03:00:00.000000Z&end=2018-05-03T04:00:00.000000Z&granularity=60\n",
            "https://api.gdax.com/products/BCH-USD/candles?start=2018-05-03T04:00:00.000000Z&end=2018-05-03T05:00:00.000000Z&granularity=60\n",
            "https://api.gdax.com/products/BCH-USD/candles?start=2018-05-03T05:00:00.000000Z&end=2018-05-03T06:00:00.000000Z&granularity=60\n",
            "https://api.gdax.com/products/BCH-USD/candles?start=2018-05-03T06:00:00.000000Z&end=2018-05-03T07:00:00.000000Z&granularity=60\n",
            "https://api.gdax.com/products/BCH-USD/candles?start=2018-05-03T07:00:00.000000Z&end=2018-05-03T08:00:00.000000Z&granularity=60\n",
            "https://api.gdax.com/products/BCH-USD/candles?start=2018-05-03T08:00:00.000000Z&end=2018-05-03T09:00:00.000000Z&granularity=60\n",
            "https://api.gdax.com/products/BCH-USD/candles?start=2018-05-03T09:00:00.000000Z&end=2018-05-03T10:00:00.000000Z&granularity=60\n",
            "https://api.gdax.com/products/BCH-USD/candles?start=2018-05-03T10:00:00.000000Z&end=2018-05-03T11:00:00.000000Z&granularity=60\n",
            "https://api.gdax.com/products/BCH-USD/candles?start=2018-05-03T11:00:00.000000Z&end=2018-05-03T12:00:00.000000Z&granularity=60\n",
            "https://api.gdax.com/products/BCH-USD/candles?start=2018-05-03T12:00:00.000000Z&end=2018-05-03T13:00:00.000000Z&granularity=60\n",
            "https://api.gdax.com/products/BCH-USD/candles?start=2018-05-03T13:00:00.000000Z&end=2018-05-03T14:00:00.000000Z&granularity=60\n",
            "https://api.gdax.com/products/BCH-USD/candles?start=2018-05-03T14:00:00.000000Z&end=2018-05-03T15:00:00.000000Z&granularity=60\n",
            "https://api.gdax.com/products/BCH-USD/candles?start=2018-05-03T15:00:00.000000Z&end=2018-05-03T16:00:00.000000Z&granularity=60\n",
            "https://api.gdax.com/products/BCH-USD/candles?start=2018-05-03T16:00:00.000000Z&end=2018-05-03T17:00:00.000000Z&granularity=60\n",
            "https://api.gdax.com/products/BCH-USD/candles?start=2018-05-03T17:00:00.000000Z&end=2018-05-03T18:00:00.000000Z&granularity=60\n",
            "https://api.gdax.com/products/BCH-USD/candles?start=2018-05-03T18:00:00.000000Z&end=2018-05-03T19:00:00.000000Z&granularity=60\n",
            "https://api.gdax.com/products/BCH-USD/candles?start=2018-05-03T19:00:00.000000Z&end=2018-05-03T20:00:00.000000Z&granularity=60\n",
            "https://api.gdax.com/products/BCH-USD/candles?start=2018-05-03T20:00:00.000000Z&end=2018-05-03T21:00:00.000000Z&granularity=60\n",
            "https://api.gdax.com/products/BCH-USD/candles?start=2018-05-03T21:00:00.000000Z&end=2018-05-03T22:00:00.000000Z&granularity=60\n",
            "https://api.gdax.com/products/BCH-USD/candles?start=2018-05-03T22:00:00.000000Z&end=2018-05-03T23:00:00.000000Z&granularity=60\n",
            "https://api.gdax.com/products/BCH-USD/candles?start=2018-05-04T00:00:00.000000Z&end=2018-05-04T01:00:00.000000Z&granularity=60\n"
          ],
          "name": "stdout"
        }
      ]
    },
    {
      "metadata": {
        "id": "V_Eifue-MS5P",
        "colab_type": "code",
        "colab": {
          "autoexec": {
            "startup": false,
            "wait_interval": 0
          },
          "base_uri": "https://localhost:8080/",
          "height": 34
        },
        "outputId": "45d0eb9e-6512-499d-83e7-9ffc344423eb",
        "executionInfo": {
          "status": "ok",
          "timestamp": 1527960431582,
          "user_tz": 240,
          "elapsed": 1430,
          "user": {
            "displayName": "Vignesh Sriram",
            "photoUrl": "//lh6.googleusercontent.com/-6ecNcuihHwE/AAAAAAAAAAI/AAAAAAAAACY/vOHJcYN2Oe4/s50-c-k-no/photo.jpg",
            "userId": "115992060806323828288"
          }
        }
      },
      "cell_type": "code",
      "source": [
        "!ls\n",
        "\n",
        "!tar -czvf data.tar.gz *.csv\n",
        "files.download('data.tar.gz')\n"
      ],
      "execution_count": 26,
      "outputs": [
        {
          "output_type": "stream",
          "text": [
            "BCH-BTC.csv  datalab\r\n"
          ],
          "name": "stdout"
        }
      ]
    },
    {
      "metadata": {
        "id": "9Z-BHWjVieYD",
        "colab_type": "code",
        "colab": {
          "autoexec": {
            "startup": false,
            "wait_interval": 0
          }
        }
      },
      "cell_type": "code",
      "source": [
        ""
      ],
      "execution_count": 0,
      "outputs": []
    }
  ]
}