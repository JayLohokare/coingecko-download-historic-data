{
  "nbformat": 4,
  "nbformat_minor": 0,
  "metadata": {
    "colab": {
      "name": "Coin Geko",
      "version": "0.3.2",
      "views": {},
      "default_view": {},
      "provenance": [],
      "collapsed_sections": []
    }
  },
  "cells": [
    {
      "metadata": {
        "id": "vFsF0OITO_ET",
        "colab_type": "code",
        "colab": {
          "autoexec": {
            "startup": false,
            "wait_interval": 0
          },
          "base_uri": "https://localhost:8080/",
          "height": 105
        },
        "outputId": "9f83ad3a-c124-43f9-e26c-bd033133d52c",
        "executionInfo": {
          "status": "ok",
          "timestamp": 1527292869550,
          "user_tz": 240,
          "elapsed": 2182,
          "user": {
            "displayName": "Jay Lohokare",
            "photoUrl": "//lh3.googleusercontent.com/-0bBtDx-OpcA/AAAAAAAAAAI/AAAAAAAAo0k/wOog6yUZ1yM/s50-c-k-no/photo.jpg",
            "userId": "101298074449851112405"
          }
        }
      },
      "cell_type": "code",
      "source": [
        "!pip install requests\n"
      ],
      "execution_count": 132,
      "outputs": [
        {
          "output_type": "stream",
          "text": [
            "Requirement already satisfied: requests in /usr/local/lib/python2.7/dist-packages (2.18.4)\r\n",
            "Requirement already satisfied: idna<2.7,>=2.5 in /usr/local/lib/python2.7/dist-packages (from requests) (2.6)\r\n",
            "Requirement already satisfied: urllib3<1.23,>=1.21.1 in /usr/local/lib/python2.7/dist-packages (from requests) (1.22)\n",
            "Requirement already satisfied: certifi>=2017.4.17 in /usr/local/lib/python2.7/dist-packages (from requests) (2018.4.16)\n",
            "Requirement already satisfied: chardet<3.1.0,>=3.0.2 in /usr/local/lib/python2.7/dist-packages (from requests) (3.0.4)\n"
          ],
          "name": "stdout"
        }
      ]
    },
    {
      "metadata": {
        "id": "Xv5jnwLmOze6",
        "colab_type": "code",
        "colab": {
          "autoexec": {
            "startup": false,
            "wait_interval": 0
          }
        }
      },
      "cell_type": "code",
      "source": [
        "import requests\n",
        "import json\n",
        "import csv\n",
        "from google.colab import files\n",
        "from datetime import timedelta, date\n",
        "\n"
      ],
      "execution_count": 0,
      "outputs": []
    },
    {
      "metadata": {
        "id": "AOKyq1ISrflY",
        "colab_type": "code",
        "colab": {
          "autoexec": {
            "startup": false,
            "wait_interval": 0
          }
        }
      },
      "cell_type": "code",
      "source": [
        "# !tar --help"
      ],
      "execution_count": 0,
      "outputs": []
    },
    {
      "metadata": {
        "id": "XBrg1UUGj3Qm",
        "colab_type": "code",
        "colab": {
          "autoexec": {
            "startup": false,
            "wait_interval": 0
          }
        }
      },
      "cell_type": "code",
      "source": [
        "\n",
        "def daterange(start_date, end_date):\n",
        "    for n in range(int ((end_date - start_date).days)):\n",
        "        yield start_date + timedelta(n)\n",
        "\n",
        "start_date = date(2017, 1, 1)\n",
        "end_date = date(2018, 5,5)\n",
        "\n"
      ],
      "execution_count": 0,
      "outputs": []
    },
    {
      "metadata": {
        "id": "85Df-7noy1yj",
        "colab_type": "code",
        "colab": {
          "autoexec": {
            "startup": false,
            "wait_interval": 0
          },
          "base_uri": "https://localhost:8080/",
          "height": 70
        },
        "outputId": "b7aee165-3cfc-488a-c329-c48cf0a5b54f",
        "executionInfo": {
          "status": "ok",
          "timestamp": 1527294208694,
          "user_tz": 240,
          "elapsed": 4855,
          "user": {
            "displayName": "Jay Lohokare",
            "photoUrl": "//lh3.googleusercontent.com/-0bBtDx-OpcA/AAAAAAAAAAI/AAAAAAAAo0k/wOog6yUZ1yM/s50-c-k-no/photo.jpg",
            "userId": "101298074449851112405"
          }
        }
      },
      "cell_type": "code",
      "source": [
        "!rm -r *.csv\n",
        "!rm -r *.tar.gz\n",
        "!rm -r DATA\n",
        "!ls"
      ],
      "execution_count": 155,
      "outputs": [
        {
          "output_type": "stream",
          "text": [
            "rm: cannot remove '*.csv': No such file or directory\n",
            "rm: cannot remove '*.tar.gz': No such file or directory\n",
            "datalab\n"
          ],
          "name": "stdout"
        }
      ]
    },
    {
      "metadata": {
        "id": "FDliV4IXO70l",
        "colab_type": "code",
        "colab": {
          "autoexec": {
            "startup": false,
            "wait_interval": 0
          }
        }
      },
      "cell_type": "code",
      "source": [
        "apiType = \"history\"\n",
        "\n",
        "#Enter the list of coins here\n",
        "coins = ['bitcoin','ethereum', 'ripple']\n",
        "\n",
        "!mkdir DATA\n",
        "!cd DATA\n",
        "\n",
        "csvNameAllCoins = \"All.csv\"\n",
        "openCSVAllCoins = open(csvNameAllCoins, 'w')\n",
        "csvWriterAllCoins = csv.writer(openCSVAllCoins)\n",
        "csvWriterAllCoins.writerow(['coin', 'date','current_price','market_cap','volume'])\n",
        "      \n",
        "  \n",
        "for coin in coins:\n",
        "  count = 0\n",
        "  csvName = coin + \".csv\"\n",
        "  openCSV = open(csvName, 'w')\n",
        "  csvWriter = csv.writer(openCSV)\n",
        "  url = \"api.coingecko.com/api/v3/coins/\" + coin +\"/\" + apiType\n",
        "  fullUrl = \"https://\" + url\n",
        "  \n",
        "  \n",
        "  for single_date in daterange(start_date, end_date):\n",
        "    date = single_date.strftime(\"%d-%m-\" +\"20%y\")\n",
        "    payload = {'date': date}\n",
        "    response = requests.get(fullUrl, params=payload)\n",
        "    parsedJSON = json.loads(response.text)\n",
        "\n",
        "    market_data = parsedJSON['market_data']  \n",
        "    \n",
        "    current_price = market_data['current_price']['usd']\n",
        "    total_volume = market_data['total_volume']['usd']\n",
        "    market_cap = market_data['market_cap']['usd']\n",
        "\n",
        "    #This array contains all the data for a coin on a particular date\n",
        "    dataArray = [date, current_price, total_volume, market_cap] \n",
        "    \n",
        "    \n",
        "    dataArrayWithCoinName = [coin, date, current_price, total_volume, market_cap]\n",
        "    csvWriterAllCoins.writerow(dataArrayWithCoinName)\n",
        "    \n",
        "    if count == 0:\n",
        "      csvWriter.writerow(['date','current_price','market_cap','volume'])\n",
        "      count += 1\n",
        "\n",
        "    csvWriter.writerow(dataArray)\n",
        "  print(\"Completed saving csv for \"+ coin)\n",
        "  openCSV.close()\n",
        "\n",
        "openCSVAllCoins.close()\n",
        "\n",
        "\n",
        "!tar -czvf data.tar.gz *.csv\n",
        "files.download('data.tar.gz')"
      ],
      "execution_count": 0,
      "outputs": []
    },
    {
      "metadata": {
        "id": "p9XkqDcVTHJI",
        "colab_type": "code",
        "colab": {
          "autoexec": {
            "startup": false,
            "wait_interval": 0
          }
        }
      },
      "cell_type": "code",
      "source": [
        "# !rm -r data.tar.gz\n"
      ],
      "execution_count": 0,
      "outputs": []
    },
    {
      "metadata": {
        "id": "pgC6_QCbiVXD",
        "colab_type": "code",
        "colab": {
          "autoexec": {
            "startup": false,
            "wait_interval": 0
          }
        }
      },
      "cell_type": "code",
      "source": [
        "# !ls"
      ],
      "execution_count": 0,
      "outputs": []
    },
    {
      "metadata": {
        "id": "2v3C-61JqDwu",
        "colab_type": "code",
        "colab": {
          "autoexec": {
            "startup": false,
            "wait_interval": 0
          }
        }
      },
      "cell_type": "code",
      "source": [
        "files.download('data.tar.gz')"
      ],
      "execution_count": 0,
      "outputs": []
    },
    {
      "metadata": {
        "id": "1ioQ2-Vtxmpi",
        "colab_type": "code",
        "colab": {
          "autoexec": {
            "startup": false,
            "wait_interval": 0
          }
        }
      },
      "cell_type": "code",
      "source": [
        "#To untar the file run the next line - \n",
        "#tar -xvzf data.tar.gz"
      ],
      "execution_count": 0,
      "outputs": []
    }
  ]
}